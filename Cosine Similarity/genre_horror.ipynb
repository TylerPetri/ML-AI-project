{
 "cells": [
  {
   "cell_type": "code",
   "execution_count": null,
   "metadata": {},
   "outputs": [],
   "source": [
    "%pip install pandas\n",
    "\n",
    "import pandas as pd"
   ]
  },
  {
   "cell_type": "code",
   "execution_count": 22,
   "metadata": {},
   "outputs": [
    {
     "name": "stderr",
     "output_type": "stream",
     "text": [
      "/var/folders/j8/rb8khncs0j73tq5y5x9g6d980000gn/T/ipykernel_24484/4272560742.py:6: SettingWithCopyWarning: \n",
      "A value is trying to be set on a copy of a slice from a DataFrame.\n",
      "Try using .loc[row_indexer,col_indexer] = value instead\n",
      "\n",
      "See the caveats in the documentation: https://pandas.pydata.org/pandas-docs/stable/user_guide/indexing.html#returning-a-view-versus-a-copy\n",
      "  horror_movies['tags'] = horror_movies['overview']+movies['genres']\n"
     ]
    },
    {
     "data": {
      "text/html": [
       "<div>\n",
       "<style scoped>\n",
       "    .dataframe tbody tr th:only-of-type {\n",
       "        vertical-align: middle;\n",
       "    }\n",
       "\n",
       "    .dataframe tbody tr th {\n",
       "        vertical-align: top;\n",
       "    }\n",
       "\n",
       "    .dataframe thead th {\n",
       "        text-align: right;\n",
       "    }\n",
       "</style>\n",
       "<table border=\"1\" class=\"dataframe\">\n",
       "  <thead>\n",
       "    <tr style=\"text-align: right;\">\n",
       "      <th></th>\n",
       "      <th>id</th>\n",
       "      <th>title</th>\n",
       "      <th>release_date</th>\n",
       "      <th>tags</th>\n",
       "    </tr>\n",
       "  </thead>\n",
       "  <tbody>\n",
       "    <tr>\n",
       "      <th>100</th>\n",
       "      <td>138</td>\n",
       "      <td>Dracula</td>\n",
       "      <td>1931-02-12</td>\n",
       "      <td>British estate agent Renfield travels to Trans...</td>\n",
       "    </tr>\n",
       "    <tr>\n",
       "      <th>170</th>\n",
       "      <td>215</td>\n",
       "      <td>Saw II</td>\n",
       "      <td>2005-10-28</td>\n",
       "      <td>The chilling and relentless Jigsaw killer retu...</td>\n",
       "    </tr>\n",
       "    <tr>\n",
       "      <th>297</th>\n",
       "      <td>377</td>\n",
       "      <td>A Nightmare on Elm Street</td>\n",
       "      <td>1984-10-31</td>\n",
       "      <td>Teenagers in a small town are dropping like fl...</td>\n",
       "    </tr>\n",
       "    <tr>\n",
       "      <th>483</th>\n",
       "      <td>609</td>\n",
       "      <td>Poltergeist</td>\n",
       "      <td>1982-06-04</td>\n",
       "      <td>Upon realizing that something truly evil haunt...</td>\n",
       "    </tr>\n",
       "    <tr>\n",
       "      <th>524</th>\n",
       "      <td>653</td>\n",
       "      <td>Nosferatu</td>\n",
       "      <td>1922-02-16</td>\n",
       "      <td>The mysterious Count Orlok summons Thomas Hutt...</td>\n",
       "    </tr>\n",
       "    <tr>\n",
       "      <th>...</th>\n",
       "      <td>...</td>\n",
       "      <td>...</td>\n",
       "      <td>...</td>\n",
       "      <td>...</td>\n",
       "    </tr>\n",
       "    <tr>\n",
       "      <th>971714</th>\n",
       "      <td>1333609</td>\n",
       "      <td>Nona</td>\n",
       "      <td>2021-12-12</td>\n",
       "      <td>A young man in prison recounts the events that...</td>\n",
       "    </tr>\n",
       "    <tr>\n",
       "      <th>971915</th>\n",
       "      <td>1333810</td>\n",
       "      <td>Eve Was Star</td>\n",
       "      <td>2024-05-01</td>\n",
       "      <td>A young man on the run from his past meets a g...</td>\n",
       "    </tr>\n",
       "    <tr>\n",
       "      <th>973923</th>\n",
       "      <td>1335865</td>\n",
       "      <td>Midwest Angelica Interlude A</td>\n",
       "      <td>2024-02-06</td>\n",
       "      <td>In the year 1999, a corpse descends from the c...</td>\n",
       "    </tr>\n",
       "    <tr>\n",
       "      <th>973945</th>\n",
       "      <td>1335887</td>\n",
       "      <td>The Dare</td>\n",
       "      <td>2021-12-02</td>\n",
       "      <td>A dare gone wrong leads to an unexpected encou...</td>\n",
       "    </tr>\n",
       "    <tr>\n",
       "      <th>973951</th>\n",
       "      <td>1335893</td>\n",
       "      <td>Boy Serpentine</td>\n",
       "      <td>1999-09-10</td>\n",
       "      <td>'Boy' likes snakes. Everybody hates 'Boy' for ...</td>\n",
       "    </tr>\n",
       "  </tbody>\n",
       "</table>\n",
       "<p>19860 rows × 4 columns</p>\n",
       "</div>"
      ],
      "text/plain": [
       "             id                         title release_date  \\\n",
       "100         138                       Dracula   1931-02-12   \n",
       "170         215                        Saw II   2005-10-28   \n",
       "297         377     A Nightmare on Elm Street   1984-10-31   \n",
       "483         609                   Poltergeist   1982-06-04   \n",
       "524         653                     Nosferatu   1922-02-16   \n",
       "...         ...                           ...          ...   \n",
       "971714  1333609                          Nona   2021-12-12   \n",
       "971915  1333810                  Eve Was Star   2024-05-01   \n",
       "973923  1335865  Midwest Angelica Interlude A   2024-02-06   \n",
       "973945  1335887                      The Dare   2021-12-02   \n",
       "973951  1335893                Boy Serpentine   1999-09-10   \n",
       "\n",
       "                                                     tags  \n",
       "100     British estate agent Renfield travels to Trans...  \n",
       "170     The chilling and relentless Jigsaw killer retu...  \n",
       "297     Teenagers in a small town are dropping like fl...  \n",
       "483     Upon realizing that something truly evil haunt...  \n",
       "524     The mysterious Count Orlok summons Thomas Hutt...  \n",
       "...                                                   ...  \n",
       "971714  A young man in prison recounts the events that...  \n",
       "971915  A young man on the run from his past meets a g...  \n",
       "973923  In the year 1999, a corpse descends from the c...  \n",
       "973945  A dare gone wrong leads to an unexpected encou...  \n",
       "973951  'Boy' likes snakes. Everybody hates 'Boy' for ...  \n",
       "\n",
       "[19860 rows x 4 columns]"
      ]
     },
     "execution_count": 22,
     "metadata": {},
     "output_type": "execute_result"
    }
   ],
   "source": [
    "movies = pd.read_csv('../data/TMDB_all_movies.csv')\n",
    "\n",
    "movies = movies[['id', 'title', 'overview', 'genres', 'release_date']]\n",
    "horror_movies = movies.loc[(movies['genres'] == 'Horror')]\n",
    "\n",
    "horror_movies['tags'] = horror_movies['overview']+movies['genres']\n",
    "horror_movies = horror_movies.drop(columns=['overview', 'genres'])\n",
    "horror_movies.dropna()"
   ]
  },
  {
   "cell_type": "code",
   "execution_count": null,
   "metadata": {},
   "outputs": [],
   "source": [
    "horror_movies.count()\n",
    "# horror_movies.columns"
   ]
  },
  {
   "cell_type": "code",
   "execution_count": null,
   "metadata": {},
   "outputs": [],
   "source": [
    "%pip install scikit-learn nltk"
   ]
  },
  {
   "cell_type": "code",
   "execution_count": null,
   "metadata": {},
   "outputs": [],
   "source": [
    "# Text cleaning\n",
    "import nltk\n",
    "import re\n",
    "from nltk.corpus import stopwords\n",
    "from nltk.stem import WordNetLemmatizer\n",
    "from nltk.tokenize import word_tokenize\n",
    "\n",
    "nltk.download('punkt')\n",
    "nltk.download('punkt_tab')\n",
    "nltk.download('wordnet')\n",
    "nltk.download('stopwords')\n",
    "\n",
    "def clean_text(text):\n",
    "    # Check if text is not a string\n",
    "    if not isinstance(text, str):\n",
    "        return \"\"\n",
    "\n",
    "    # Convert to lowercase\n",
    "    text = text.lower()\n",
    "\n",
    "    # Remove punctuation but keep digits\n",
    "    text = re.sub(r'[^\\w\\s\\d]', '', text)\n",
    "\n",
    "    # Tokenize\n",
    "    words = word_tokenize(text)\n",
    "\n",
    "    # Remove stop words\n",
    "    stop_words = set(stopwords.words('english'))\n",
    "    words = [word for word in words if word not in stop_words]\n",
    "\n",
    "    # Lemmatize\n",
    "    lemmatizer = WordNetLemmatizer()\n",
    "    words = [lemmatizer.lemmatize(word) for word in words]\n",
    "\n",
    "    # Join the words back together\n",
    "    text = ' '.join(words)\n",
    "    return text"
   ]
  },
  {
   "cell_type": "code",
   "execution_count": null,
   "metadata": {},
   "outputs": [],
   "source": [
    "horror_movies['tags_clean'] = horror_movies['tags'].apply(clean_text)"
   ]
  },
  {
   "cell_type": "code",
   "execution_count": null,
   "metadata": {},
   "outputs": [],
   "source": [
    "from sklearn.feature_extraction.text import CountVectorizer\n",
    "from sklearn.model_selection import train_test_split\n",
    "\n",
    "train_data, test_data = train_test_split(horror_movies, test_size=0.2, random_state=42)\n",
    "\n",
    "cv = CountVectorizer(max_features=25000, stop_words='english')"
   ]
  },
  {
   "cell_type": "code",
   "execution_count": null,
   "metadata": {},
   "outputs": [],
   "source": [
    "vector = cv.fit_transform(horror_movies['tags_clean'].values.astype('U')).toarray()"
   ]
  },
  {
   "cell_type": "code",
   "execution_count": null,
   "metadata": {},
   "outputs": [],
   "source": [
    "vector.shape"
   ]
  },
  {
   "cell_type": "code",
   "execution_count": null,
   "metadata": {},
   "outputs": [],
   "source": [
    "from sklearn.metrics.pairwise import cosine_similarity\n",
    "\n",
    "similarity = cosine_similarity(vector)"
   ]
  },
  {
   "cell_type": "code",
   "execution_count": null,
   "metadata": {},
   "outputs": [],
   "source": [
    "distance = sorted(list(enumerate(similarity[0])), reverse=True, key=lambda vector:vector[1])\n",
    "for i in distance[0:5]:\n",
    "  print(f\"{horror_movies.iloc[i[0]].title} ({horror_movies.iloc[i[0]].release_date.split('-')[0]})\")"
   ]
  },
  {
   "cell_type": "code",
   "execution_count": null,
   "metadata": {},
   "outputs": [],
   "source": [
    "def recommend(movies):\n",
    "  try:\n",
    "    index = horror_movies[horror_movies['title'] == movies].index[0]\n",
    "    distance = sorted(list(enumerate(similarity[index])), reverse=True, key=lambda vector:vector[1])\n",
    "    for i in distance[1:6]:\n",
    "      print(f\"{horror_movies.iloc[i[0]].title} ({horror_movies.iloc[i[0]].release_date.split('-')[0]})\")\n",
    "  except:\n",
    "    print(\"Doesn't exist\")"
   ]
  },
  {
   "cell_type": "code",
   "execution_count": 19,
   "metadata": {},
   "outputs": [
    {
     "name": "stdout",
     "output_type": "stream",
     "text": [
      "Lost Command (2012)\n",
      "Dead Body Man Chronicles (2008)\n",
      "Dead Island: No Retreat (2013)\n",
      "Still Alive (2015)\n",
      "Reich of the Reich (2022)\n"
     ]
    }
   ],
   "source": [
    "recommend('Poltergeist')"
   ]
  }
 ],
 "metadata": {
  "kernelspec": {
   "display_name": "sloss",
   "language": "python",
   "name": "python3"
  },
  "language_info": {
   "codemirror_mode": {
    "name": "ipython",
    "version": 3
   },
   "file_extension": ".py",
   "mimetype": "text/x-python",
   "name": "python",
   "nbconvert_exporter": "python",
   "pygments_lexer": "ipython3",
   "version": "3.12.4"
  }
 },
 "nbformat": 4,
 "nbformat_minor": 2
}
